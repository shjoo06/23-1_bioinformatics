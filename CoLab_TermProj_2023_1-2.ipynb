{
  "cells": [
    {
      "cell_type": "markdown",
      "metadata": {
        "id": "_SmTogjeMD47"
      },
      "source": [
        "# 생물정보학 및 실습 1 - Term Project용 환경 셋업\n",
        "\n",
        "```\n",
        "생물정보학 및 실습 1\n",
        "서울대학교 생물정보학전공/생명과학부 2023년 1학기\n",
        "\n",
        "이 노트북은 Creative Commons BY-SA 조건으로 재사용 가능합니다.\n",
        "장혜식 <hyeshik@snu.ac.kr>, 서울대학교 생명과학부\n",
        "```\n",
        "\n",
        "이 노트북은 Google Colab을 이용해서 Term Project를 할 수 있도록 환경을 준비해 줍니다. 터미널 사용이 원활하지 않은 상태이고, 데이터를 오랫동안 보관하기 어렵기 때문에 되도록 개인용 컴퓨터에서 [Anaconda](https://www.anaconda.com/)나 [JupyterLab](https://jupyterlab.readthedocs.io/en/stable/) 등을 설치하고 사용하시는 것이 편하지만, 개인용 컴퓨터 사양이 부족한 경우에는 Google CoLab을 사용할 수도 있습니다. 개인용 컴퓨터를 쓸 때는 Windows에서는 [WSL2](https://docs.microsoft.com/en-us/windows/wsl/install-win10)를 쓰시면 리눅스 커맨드라인 환경을 쓸 수 있습니다. Google Colab은 창을 닫은 후 90분 후, 또는 창을 처음 열고 12시간 후에 환경을 닫아버리기 때문에 매번 실습할 때마다 새로 셋업이 필요합니다. `Runtime->Run All`을 실행해서 전체를 한 번 실행하시면 준비됩니다. 모든 것이 잘 안 되고 뭔가 꼬인 느낌이 강하게 들 때는 `Runtime->Factory reset runtime`을 누르고 새로 시작하시면 될 수도 있습니다.\n"
      ]
    },
    {
      "cell_type": "markdown",
      "metadata": {
        "id": "zGYjheLcRJS0"
      },
      "source": [
        "## Google Drive 마운트\n",
        "\n",
        "데이터 파일들을 불러오고 저장하기 위해서 Google Drive를 연결합니다. **이번엔 스크립트 파일을 편집해야 하기 때문에 Google Drive 마운트를 하지 않으면 vim등 콘솔에서 쓸 수 있는 에디터를 쓰셔야 합니다.** 화면에 나오는 주소를 눌러서 인증하고 인증 코드를 그 아래에 입력하세요. 그러면 `/contents/drive/MyDrive`에서 자신의 Drive 최상단 폴더가 보입니다. Google CoLab에서 접속하지 않고, 본인 컴퓨터 또는 연구실 워크스테이션 등 다른 컴퓨터를 쓰시는 경우에는 저장공간이 충분하므로 이 부분은 생략하고 지나갑니다."
      ]
    },
    {
      "cell_type": "code",
      "execution_count": null,
      "metadata": {
        "id": "0HgOxANiRHgl"
      },
      "outputs": [],
      "source": [
        "from google.colab import drive\n",
        "drive.mount('/content/drive')"
      ]
    },
    {
      "cell_type": "markdown",
      "metadata": {
        "id": "ra3RB22DWEER"
      },
      "source": [
        "## 실습용 Bioconda 환경 설치하기\n",
        "Google CoLab에서 접속하지 않고, 본인 컴퓨터 또는 연구실 워크스테이션 등 다른 컴퓨터를 쓰시는 경우에는 따로 실습용 [Bioconda](https://bioconda.github.io/) 환경을 구축해서 이 노트북을 그 환경 안에서 띄우시면 됩니다.\n",
        "\n",
        "CoLab을 쓰시는 분들은 다음에 따라서 실습용 프로그램들을 쉽게 설치할 수 있도록 [Bioconda](https://bioconda.github.io/) 환경을 만듭니다. 실행하고 진행상황을 관찰하다가 에러로 보이는 것이 있으면 잘 읽어보고 해결합니다.\n",
        "\n",
        "파이썬 모듈들은 Colab쪽의 파이썬 인터프리터를 바꿀 수 없기 때문에 Conda에 설치하더라도 사용하기 어렵습니다. 파이썬 모듈은 `pip` 명령어로 설치하시면 Colab에서 불러와서 사용할 수 있습니다.\n",
        "\n",
        "환경 초기화에 관련된 스크립트는 [GitHub 프로젝트](https://github.com/hyeshik/colab-biolab)에 있습니다."
      ]
    },
    {
      "cell_type": "code",
      "execution_count": null,
      "metadata": {
        "id": "TTXmNi4hcap3"
      },
      "outputs": [],
      "source": [
        "!git clone https://github.com/hyeshik/colab-biolab.git\n",
        "!cd colab-biolab && bash tools/setup.sh\n",
        "exec(open('colab-biolab/tools/activate_conda.py').read())"
      ]
    },
    {
      "cell_type": "markdown",
      "metadata": {
        "id": "eDfJ0fCzsTTb"
      },
      "source": [
        "요즘은 Google CoLab을 쓰시는 경우에는 무료로 Terminal을 쓸 수 있는 경로가 거의 모두 막혔습니다. 명령 앞에 !을 붙이면 실행할 수 있으니, 노트북 내에서 실행하는 방법을 활용합시다."
      ]
    },
    {
      "cell_type": "markdown",
      "metadata": {
        "id": "J2LqGiP_N26s"
      },
      "source": [
        "## 시퀀싱 데이터 다운로드\n",
        "이제 실습 수업에서 필요한 시퀀싱 데이터를 다운로드 받아서 설치합시다. 드라이브 공간만 충분하면 데이터는 계속 저장돼 있기 때문에 학기 전체를 통해서 딱 한 번만 하시면 됩니다. Colab에서는 작업용 데이터를 Google Drive 폴더 아래의 `binfo-datapack1`에 저장합니다. 실습용 데이터는 `/content/drive/MyDrive/binfo1-datapack1`에 풀리게 됩니다.\n",
        "\n",
        "### (Option 1) Google CoLab에서 접속한 경우\n",
        "1. [Google Drive 공유폴더](https://drive.google.com/drive/folders/1QBJednh-C7A17PFOlpZHBKyDmBvd6klh?usp=sharing)에 접속합니다.\n",
        "1. 중간 제목줄의 \"binfo1-datapack1 ▾\"에서 ▾을 누릅니다.\n",
        "1. Add shortcut to Drive를 누릅니다.\n",
        "1. My Drive를 선택해서 ADD SHORTCUT 버튼을 누릅니다.\n",
        "1. 다음 cell을 실행해서 링크가 제대로 들어왔는지 확인합니다. (바로 확인되지 않으면 3–5분 정도 기다렸다가 하면 됩니다.)\n",
        "1. 제대로 확인되면 다음으로 넘어갑니다.\n"
      ]
    },
    {
      "cell_type": "code",
      "execution_count": null,
      "metadata": {
        "id": "D24wKYriG8tI"
      },
      "outputs": [],
      "source": [
        "!ls -al /content/drive/MyDrive/binfo1-datapack1/"
      ]
    },
    {
      "cell_type": "markdown",
      "metadata": {
        "id": "OZ0KkKrmG-M4"
      },
      "source": [
        "### (Option 2) CoLab외의 다른 환경에서 접속한 경우\n",
        "본인 컴퓨터나 연구실 워크스테이션 등에서 작업하는 경우에는 다음 명령어로 다운로드 받으시면 됩니다. 첫 번째에는 wget이 접속오류를 내는 경우가 많으니, 접속에러가 발생하면 다시 한 번 실행해 보세요. `/content/drive/Mydrive` 부분은 원하는 저장 경로로 바꿔서 지정하시면 됩니다."
      ]
    },
    {
      "cell_type": "code",
      "execution_count": null,
      "metadata": {
        "id": "kIN484e7NSxR"
      },
      "outputs": [],
      "source": [
        "!wget -O - --no-check-certificate https://hyeshik.qbio.io/binfo/binfo1-datapack1.tar | tar -C /content/drive/MyDrive -xf -"
      ]
    },
    {
      "cell_type": "markdown",
      "metadata": {
        "id": "kiQ5y4dTD27M"
      },
      "source": [
        "그리고, GENCODE Annotation 데이터도 미리 받아서 저장해 둡니다. 에러가 나면 다시 한 번 실행해 봅니다."
      ]
    },
    {
      "cell_type": "code",
      "execution_count": null,
      "metadata": {
        "id": "Efdd3x8hDMh4"
      },
      "outputs": [],
      "source": [
        "!wget --no-check-certificate -O /content/drive/MyDrive/binfo1-datapack1/gencode.gtf.gz http://ftp.ebi.ac.uk/pub/databases/gencode/Gencode_mouse/release_M27/gencode.vM27.annotation.gtf.gz"
      ]
    },
    {
      "cell_type": "markdown",
      "metadata": {
        "id": "O3rM9ds6EMhB"
      },
      "source": [
        "다루기 쉽도록 Annotation 압축을 풉니다."
      ]
    },
    {
      "cell_type": "code",
      "execution_count": null,
      "metadata": {
        "id": "KNyuSM6PEQvX"
      },
      "outputs": [],
      "source": [
        "!gunzip /content/drive/MyDrive/binfo1-datapack1/gencode.gtf.gz"
      ]
    },
    {
      "cell_type": "markdown",
      "metadata": {
        "id": "lnlM-S70C-tY"
      },
      "source": [
        "### 파일 체크섬 확인\n",
        "\n",
        "받은 데이터의 MD5 체크섬을 확인합니다. 한참 걸립니다. 각 파일들의 원래 체크섬은 다음과 같습니다. 한 번 비교해 보세요.\n",
        "\n",
        "```\n",
        "140aaf30bcb9276cc716f8699f04ddd6  CLIP-35L33G.bam\n",
        "f1b3336ed7e2f97d562dcc71641251bd  CLIP-35L33G.bam.bai\n",
        "328883a73d507eafbf5b60bd6b906201  RNA-control.bam\n",
        "02073818e2f398a73c3b76e5169de1ca  RNA-control.bam.bai\n",
        "b09550d09d6c2a4ce27f0226f426fdb1  RNA-siLin28a.bam\n",
        "fef112c727244060ea62d3f2564a07f6  RNA-siLin28a.bam.bai\n",
        "28bbd0c47d725669340c784f1b772c01  RNA-siLuc.bam\n",
        "43590fdc4d81905c0432e0d1cb8cfd5b  RNA-siLuc.bam.bai\n",
        "5c08a9297307bc83259e658c4474f0cc  RPF-siLin28a.bam\n",
        "a1bb3e29be412dfd7fd8d16b1b1acc4c  RPF-siLin28a.bam.bai\n",
        "f2eebf50943024d0116c9cd3e744c707  RPF-siLuc.bam\n",
        "dc24f69e8f571fc8be30f28ce5b84fcd  RPF-siLuc.bam.bai\n",
        "```"
      ]
    },
    {
      "cell_type": "code",
      "execution_count": null,
      "metadata": {
        "id": "g8lC_YJRBCPf"
      },
      "outputs": [],
      "source": [
        "!md5sum drive/MyDrive/binfo1-datapack1/*  # 확인 완료"
      ]
    },
    {
      "cell_type": "code",
      "execution_count": null,
      "metadata": {
        "id": "PVXzIs5FE3Q4"
      },
      "outputs": [],
      "source": [
        "!ls -al drive/MyDrive/binfo*"
      ]
    },
    {
      "cell_type": "markdown",
      "metadata": {
        "id": "ecEA1PPQUlIK"
      },
      "source": [
        "실습에 필요한 프로그램들 몇 가지를 추가로 설치합니다."
      ]
    },
    {
      "cell_type": "code",
      "execution_count": null,
      "metadata": {
        "id": "neteyWsWEKBy"
      },
      "outputs": [],
      "source": [
        "!conda install -y subread"
      ]
    },
    {
      "cell_type": "markdown",
      "metadata": {
        "id": "Oe_54MZrEi4y"
      },
      "source": [
        "## Transcript count table 마련하기\n",
        "\n",
        "제공된 alignment와 annotation 파일들을 이용해서 transcript별 read count를 구해봅니다. 실제 연구에서는 multi-mapping 등을 고려해야 하지만, 여기서는 단순화해서 모두 무시합니다."
      ]
    },
    {
      "cell_type": "markdown",
      "metadata": {
        "id": "rrkL8Zl-s978"
      },
      "source": [
        "먼저 작업 디렉토리를 만들고 데이터를 원본 디렉토리에서 복사해 옵니다."
      ]
    },
    {
      "cell_type": "code",
      "execution_count": null,
      "metadata": {
        "id": "ibYTwDaIon6b"
      },
      "outputs": [],
      "source": [
        "!mkdir /content/drive/MyDrive/binfo1-work\n",
        "%cd /content/drive/MyDrive/binfo1-work\n",
        "!cp ../binfo1-datapack1/*.* ."
      ]
    },
    {
      "cell_type": "code",
      "execution_count": null,
      "metadata": {
        "id": "5OrnDxegFAip"
      },
      "outputs": [],
      "source": [
        "!featureCounts -a gencode.gtf -o read-counts.txt *.bam "
      ]
    },
    {
      "cell_type": "markdown",
      "metadata": {
        "id": "b2yJztZvGl9Q"
      },
      "source": [
        "결과를 pandas로 읽어와 봅니다."
      ]
    },
    {
      "cell_type": "code",
      "execution_count": 19,
      "metadata": {
        "id": "BMyNT3ARFAWi"
      },
      "outputs": [
        {
          "data": {
            "text/html": [
              "<div>\n",
              "<style scoped>\n",
              "    .dataframe tbody tr th:only-of-type {\n",
              "        vertical-align: middle;\n",
              "    }\n",
              "\n",
              "    .dataframe tbody tr th {\n",
              "        vertical-align: top;\n",
              "    }\n",
              "\n",
              "    .dataframe thead th {\n",
              "        text-align: right;\n",
              "    }\n",
              "</style>\n",
              "<table border=\"1\" class=\"dataframe\">\n",
              "  <thead>\n",
              "    <tr style=\"text-align: right;\">\n",
              "      <th></th>\n",
              "      <th>Chr</th>\n",
              "      <th>Start</th>\n",
              "      <th>End</th>\n",
              "      <th>Strand</th>\n",
              "      <th>Length</th>\n",
              "      <th>CLIP-35L33G.bam</th>\n",
              "      <th>RNA-control.bam</th>\n",
              "      <th>RNA-siLin28a.bam</th>\n",
              "      <th>RNA-siLuc.bam</th>\n",
              "      <th>RPF-siLin28a.bam</th>\n",
              "      <th>RPF-siLuc.bam</th>\n",
              "    </tr>\n",
              "    <tr>\n",
              "      <th>Geneid</th>\n",
              "      <th></th>\n",
              "      <th></th>\n",
              "      <th></th>\n",
              "      <th></th>\n",
              "      <th></th>\n",
              "      <th></th>\n",
              "      <th></th>\n",
              "      <th></th>\n",
              "      <th></th>\n",
              "      <th></th>\n",
              "      <th></th>\n",
              "    </tr>\n",
              "  </thead>\n",
              "  <tbody>\n",
              "    <tr>\n",
              "      <th>ENSMUSG00000102693.2</th>\n",
              "      <td>chr1</td>\n",
              "      <td>3143476</td>\n",
              "      <td>3144545</td>\n",
              "      <td>+</td>\n",
              "      <td>1070</td>\n",
              "      <td>0</td>\n",
              "      <td>0</td>\n",
              "      <td>0</td>\n",
              "      <td>0</td>\n",
              "      <td>0</td>\n",
              "      <td>0</td>\n",
              "    </tr>\n",
              "    <tr>\n",
              "      <th>ENSMUSG00000064842.3</th>\n",
              "      <td>chr1</td>\n",
              "      <td>3172239</td>\n",
              "      <td>3172348</td>\n",
              "      <td>+</td>\n",
              "      <td>110</td>\n",
              "      <td>0</td>\n",
              "      <td>0</td>\n",
              "      <td>0</td>\n",
              "      <td>0</td>\n",
              "      <td>0</td>\n",
              "      <td>0</td>\n",
              "    </tr>\n",
              "    <tr>\n",
              "      <th>ENSMUSG00000051951.6</th>\n",
              "      <td>chr1;chr1;chr1;chr1;chr1;chr1;chr1</td>\n",
              "      <td>3276124;3276746;3283662;3283832;3284705;349192...</td>\n",
              "      <td>3277540;3277540;3285855;3286567;3287191;349212...</td>\n",
              "      <td>-;-;-;-;-;-;-</td>\n",
              "      <td>6094</td>\n",
              "      <td>4</td>\n",
              "      <td>1</td>\n",
              "      <td>1</td>\n",
              "      <td>1</td>\n",
              "      <td>0</td>\n",
              "      <td>0</td>\n",
              "    </tr>\n",
              "    <tr>\n",
              "      <th>ENSMUSG00000102851.2</th>\n",
              "      <td>chr1</td>\n",
              "      <td>3322980</td>\n",
              "      <td>3323459</td>\n",
              "      <td>+</td>\n",
              "      <td>480</td>\n",
              "      <td>3</td>\n",
              "      <td>0</td>\n",
              "      <td>0</td>\n",
              "      <td>0</td>\n",
              "      <td>0</td>\n",
              "      <td>0</td>\n",
              "    </tr>\n",
              "    <tr>\n",
              "      <th>ENSMUSG00000103377.2</th>\n",
              "      <td>chr1</td>\n",
              "      <td>3435954</td>\n",
              "      <td>3438772</td>\n",
              "      <td>-</td>\n",
              "      <td>2819</td>\n",
              "      <td>0</td>\n",
              "      <td>0</td>\n",
              "      <td>0</td>\n",
              "      <td>0</td>\n",
              "      <td>0</td>\n",
              "      <td>0</td>\n",
              "    </tr>\n",
              "  </tbody>\n",
              "</table>\n",
              "</div>"
            ],
            "text/plain": [
              "                                                     Chr  \\\n",
              "Geneid                                                     \n",
              "ENSMUSG00000102693.2                                chr1   \n",
              "ENSMUSG00000064842.3                                chr1   \n",
              "ENSMUSG00000051951.6  chr1;chr1;chr1;chr1;chr1;chr1;chr1   \n",
              "ENSMUSG00000102851.2                                chr1   \n",
              "ENSMUSG00000103377.2                                chr1   \n",
              "\n",
              "                                                                  Start  \\\n",
              "Geneid                                                                    \n",
              "ENSMUSG00000102693.2                                            3143476   \n",
              "ENSMUSG00000064842.3                                            3172239   \n",
              "ENSMUSG00000051951.6  3276124;3276746;3283662;3283832;3284705;349192...   \n",
              "ENSMUSG00000102851.2                                            3322980   \n",
              "ENSMUSG00000103377.2                                            3435954   \n",
              "\n",
              "                                                                    End  \\\n",
              "Geneid                                                                    \n",
              "ENSMUSG00000102693.2                                            3144545   \n",
              "ENSMUSG00000064842.3                                            3172348   \n",
              "ENSMUSG00000051951.6  3277540;3277540;3285855;3286567;3287191;349212...   \n",
              "ENSMUSG00000102851.2                                            3323459   \n",
              "ENSMUSG00000103377.2                                            3438772   \n",
              "\n",
              "                             Strand  Length  CLIP-35L33G.bam  RNA-control.bam  \\\n",
              "Geneid                                                                          \n",
              "ENSMUSG00000102693.2              +    1070                0                0   \n",
              "ENSMUSG00000064842.3              +     110                0                0   \n",
              "ENSMUSG00000051951.6  -;-;-;-;-;-;-    6094                4                1   \n",
              "ENSMUSG00000102851.2              +     480                3                0   \n",
              "ENSMUSG00000103377.2              -    2819                0                0   \n",
              "\n",
              "                      RNA-siLin28a.bam  RNA-siLuc.bam  RPF-siLin28a.bam  \\\n",
              "Geneid                                                                    \n",
              "ENSMUSG00000102693.2                 0              0                 0   \n",
              "ENSMUSG00000064842.3                 0              0                 0   \n",
              "ENSMUSG00000051951.6                 1              1                 0   \n",
              "ENSMUSG00000102851.2                 0              0                 0   \n",
              "ENSMUSG00000103377.2                 0              0                 0   \n",
              "\n",
              "                      RPF-siLuc.bam  \n",
              "Geneid                               \n",
              "ENSMUSG00000102693.2              0  \n",
              "ENSMUSG00000064842.3              0  \n",
              "ENSMUSG00000051951.6              0  \n",
              "ENSMUSG00000102851.2              0  \n",
              "ENSMUSG00000103377.2              0  "
            ]
          },
          "execution_count": 19,
          "metadata": {},
          "output_type": "execute_result"
        }
      ],
      "source": [
        "import pandas as pd\n",
        "cnts = pd.read_csv('/qbio/shjo/23-1_bioinformatics/binfo1-work/read-counts.txt', sep='\\t', comment='#', index_col=0)\n",
        "cnts.head()"
      ]
    },
    {
      "cell_type": "markdown",
      "metadata": {
        "id": "NyrUZ7WBPAmv"
      },
      "source": [
        "이제 한 번 대충 그림을 그려 봅니다."
      ]
    },
    {
      "cell_type": "code",
      "execution_count": 20,
      "metadata": {
        "id": "YlSZiJgVPAZS"
      },
      "outputs": [
        {
          "data": {
            "text/html": [
              "<div>\n",
              "<style scoped>\n",
              "    .dataframe tbody tr th:only-of-type {\n",
              "        vertical-align: middle;\n",
              "    }\n",
              "\n",
              "    .dataframe tbody tr th {\n",
              "        vertical-align: top;\n",
              "    }\n",
              "\n",
              "    .dataframe thead th {\n",
              "        text-align: right;\n",
              "    }\n",
              "</style>\n",
              "<table border=\"1\" class=\"dataframe\">\n",
              "  <thead>\n",
              "    <tr style=\"text-align: right;\">\n",
              "      <th></th>\n",
              "      <th>Chr</th>\n",
              "      <th>Start</th>\n",
              "      <th>End</th>\n",
              "      <th>Strand</th>\n",
              "      <th>Length</th>\n",
              "      <th>CLIP-35L33G.bam</th>\n",
              "      <th>RNA-control.bam</th>\n",
              "      <th>RNA-siLin28a.bam</th>\n",
              "      <th>RNA-siLuc.bam</th>\n",
              "      <th>RPF-siLin28a.bam</th>\n",
              "      <th>RPF-siLuc.bam</th>\n",
              "      <th>clip_enrichment</th>\n",
              "      <th>rden_change</th>\n",
              "    </tr>\n",
              "    <tr>\n",
              "      <th>Geneid</th>\n",
              "      <th></th>\n",
              "      <th></th>\n",
              "      <th></th>\n",
              "      <th></th>\n",
              "      <th></th>\n",
              "      <th></th>\n",
              "      <th></th>\n",
              "      <th></th>\n",
              "      <th></th>\n",
              "      <th></th>\n",
              "      <th></th>\n",
              "      <th></th>\n",
              "      <th></th>\n",
              "    </tr>\n",
              "  </thead>\n",
              "  <tbody>\n",
              "    <tr>\n",
              "      <th>ENSMUSG00000102693.2</th>\n",
              "      <td>chr1</td>\n",
              "      <td>3143476</td>\n",
              "      <td>3144545</td>\n",
              "      <td>+</td>\n",
              "      <td>1070</td>\n",
              "      <td>0</td>\n",
              "      <td>0</td>\n",
              "      <td>0</td>\n",
              "      <td>0</td>\n",
              "      <td>0</td>\n",
              "      <td>0</td>\n",
              "      <td>NaN</td>\n",
              "      <td>NaN</td>\n",
              "    </tr>\n",
              "    <tr>\n",
              "      <th>ENSMUSG00000064842.3</th>\n",
              "      <td>chr1</td>\n",
              "      <td>3172239</td>\n",
              "      <td>3172348</td>\n",
              "      <td>+</td>\n",
              "      <td>110</td>\n",
              "      <td>0</td>\n",
              "      <td>0</td>\n",
              "      <td>0</td>\n",
              "      <td>0</td>\n",
              "      <td>0</td>\n",
              "      <td>0</td>\n",
              "      <td>NaN</td>\n",
              "      <td>NaN</td>\n",
              "    </tr>\n",
              "    <tr>\n",
              "      <th>ENSMUSG00000051951.6</th>\n",
              "      <td>chr1;chr1;chr1;chr1;chr1;chr1;chr1</td>\n",
              "      <td>3276124;3276746;3283662;3283832;3284705;349192...</td>\n",
              "      <td>3277540;3277540;3285855;3286567;3287191;349212...</td>\n",
              "      <td>-;-;-;-;-;-;-</td>\n",
              "      <td>6094</td>\n",
              "      <td>4</td>\n",
              "      <td>1</td>\n",
              "      <td>1</td>\n",
              "      <td>1</td>\n",
              "      <td>0</td>\n",
              "      <td>0</td>\n",
              "      <td>4.0</td>\n",
              "      <td>NaN</td>\n",
              "    </tr>\n",
              "    <tr>\n",
              "      <th>ENSMUSG00000102851.2</th>\n",
              "      <td>chr1</td>\n",
              "      <td>3322980</td>\n",
              "      <td>3323459</td>\n",
              "      <td>+</td>\n",
              "      <td>480</td>\n",
              "      <td>3</td>\n",
              "      <td>0</td>\n",
              "      <td>0</td>\n",
              "      <td>0</td>\n",
              "      <td>0</td>\n",
              "      <td>0</td>\n",
              "      <td>inf</td>\n",
              "      <td>NaN</td>\n",
              "    </tr>\n",
              "    <tr>\n",
              "      <th>ENSMUSG00000103377.2</th>\n",
              "      <td>chr1</td>\n",
              "      <td>3435954</td>\n",
              "      <td>3438772</td>\n",
              "      <td>-</td>\n",
              "      <td>2819</td>\n",
              "      <td>0</td>\n",
              "      <td>0</td>\n",
              "      <td>0</td>\n",
              "      <td>0</td>\n",
              "      <td>0</td>\n",
              "      <td>0</td>\n",
              "      <td>NaN</td>\n",
              "      <td>NaN</td>\n",
              "    </tr>\n",
              "  </tbody>\n",
              "</table>\n",
              "</div>"
            ],
            "text/plain": [
              "                                                     Chr  \\\n",
              "Geneid                                                     \n",
              "ENSMUSG00000102693.2                                chr1   \n",
              "ENSMUSG00000064842.3                                chr1   \n",
              "ENSMUSG00000051951.6  chr1;chr1;chr1;chr1;chr1;chr1;chr1   \n",
              "ENSMUSG00000102851.2                                chr1   \n",
              "ENSMUSG00000103377.2                                chr1   \n",
              "\n",
              "                                                                  Start  \\\n",
              "Geneid                                                                    \n",
              "ENSMUSG00000102693.2                                            3143476   \n",
              "ENSMUSG00000064842.3                                            3172239   \n",
              "ENSMUSG00000051951.6  3276124;3276746;3283662;3283832;3284705;349192...   \n",
              "ENSMUSG00000102851.2                                            3322980   \n",
              "ENSMUSG00000103377.2                                            3435954   \n",
              "\n",
              "                                                                    End  \\\n",
              "Geneid                                                                    \n",
              "ENSMUSG00000102693.2                                            3144545   \n",
              "ENSMUSG00000064842.3                                            3172348   \n",
              "ENSMUSG00000051951.6  3277540;3277540;3285855;3286567;3287191;349212...   \n",
              "ENSMUSG00000102851.2                                            3323459   \n",
              "ENSMUSG00000103377.2                                            3438772   \n",
              "\n",
              "                             Strand  Length  CLIP-35L33G.bam  RNA-control.bam  \\\n",
              "Geneid                                                                          \n",
              "ENSMUSG00000102693.2              +    1070                0                0   \n",
              "ENSMUSG00000064842.3              +     110                0                0   \n",
              "ENSMUSG00000051951.6  -;-;-;-;-;-;-    6094                4                1   \n",
              "ENSMUSG00000102851.2              +     480                3                0   \n",
              "ENSMUSG00000103377.2              -    2819                0                0   \n",
              "\n",
              "                      RNA-siLin28a.bam  RNA-siLuc.bam  RPF-siLin28a.bam  \\\n",
              "Geneid                                                                    \n",
              "ENSMUSG00000102693.2                 0              0                 0   \n",
              "ENSMUSG00000064842.3                 0              0                 0   \n",
              "ENSMUSG00000051951.6                 1              1                 0   \n",
              "ENSMUSG00000102851.2                 0              0                 0   \n",
              "ENSMUSG00000103377.2                 0              0                 0   \n",
              "\n",
              "                      RPF-siLuc.bam  clip_enrichment  rden_change  \n",
              "Geneid                                                             \n",
              "ENSMUSG00000102693.2              0              NaN          NaN  \n",
              "ENSMUSG00000064842.3              0              NaN          NaN  \n",
              "ENSMUSG00000051951.6              0              4.0          NaN  \n",
              "ENSMUSG00000102851.2              0              inf          NaN  \n",
              "ENSMUSG00000103377.2              0              NaN          NaN  "
            ]
          },
          "execution_count": 20,
          "metadata": {},
          "output_type": "execute_result"
        }
      ],
      "source": [
        "cnts['clip_enrichment'] = cnts['CLIP-35L33G.bam'] / cnts['RNA-control.bam']\n",
        "cnts['rden_change'] = (cnts['RPF-siLin28a.bam'] / cnts['RNA-siLin28a.bam']) / (cnts['RPF-siLuc.bam'] / cnts['RNA-siLuc.bam'])\n",
        "cnts.head()"
      ]
    },
    {
      "cell_type": "code",
      "execution_count": 4,
      "metadata": {
        "id": "vU3ce_HEFALl"
      },
      "outputs": [
        {
          "name": "stderr",
          "output_type": "stream",
          "text": [
            "/blaze/shjo/conda/envs/jupyterlab/lib/python3.7/site-packages/pandas/core/arraylike.py:364: RuntimeWarning: divide by zero encountered in log2\n",
            "  result = getattr(ufunc, method)(*inputs, **kwargs)\n"
          ]
        },
        {
          "data": {
            "text/plain": [
              "<matplotlib.collections.PathCollection at 0x7f74060b83d0>"
            ]
          },
          "execution_count": 4,
          "metadata": {},
          "output_type": "execute_result"
        },
        {
          "data": {
            "image/png": "[encoded data removed]",
            "text/plain": [
              "<Figure size 360x360 with 1 Axes>"
            ]
          },
          "metadata": {
            "needs_background": "light"
          },
          "output_type": "display_data"
        }
      ],
      "source": [
        "from matplotlib import pyplot as plt\n",
        "import numpy as np\n",
        "\n",
        "\n",
        "fig, ax = plt.subplots(1, 1, figsize=(5, 5))\n",
        "ax.scatter(np.log2(cnts['clip_enrichment']),\n",
        "           np.log2(cnts['rden_change']))"
      ]
    },
    {
      "cell_type": "markdown",
      "metadata": {
        "id": "ksVjIL10mV_v"
      },
      "source": [
        "이 그림에는 문제가 많이 있습니다. 논문의 그림처럼 한 번 만들어 봅시다~"
      ]
    },
    {
      "cell_type": "code",
      "execution_count": 27,
      "metadata": {
        "id": "RZ-EV3s5X3u5"
      },
      "outputs": [
        {
          "name": "stderr",
          "output_type": "stream",
          "text": [
            "/blaze/shjo/conda/envs/jupyterlab/lib/python3.7/site-packages/pandas/core/arraylike.py:364: RuntimeWarning: divide by zero encountered in log2\n",
            "  result = getattr(ufunc, method)(*inputs, **kwargs)\n"
          ]
        },
        {
          "data": {
            "image/png": "[encoded data removed]",
            "text/plain": [
              "<Figure size 360x360 with 1 Axes>"
            ]
          },
          "metadata": {
            "needs_background": "light"
          },
          "output_type": "display_data"
        }
      ],
      "source": [
        "from matplotlib import pyplot as plt\n",
        "import numpy as np\n",
        "import pandas as pd\n",
        "\n",
        "cnts_filtered = cnts[cnts['RNA-control.bam']>=100]\n",
        "fig, ax = plt.subplots(1, 1, figsize=(5, 5))\n",
        "ax.grid(True, ls='--', alpha=0.5, color='#000000')\n",
        "ax.scatter(np.log2(cnts_filtered['clip_enrichment']),\n",
        "           np.log2(cnts_filtered['rden_change']),\n",
        "           c='#000000', alpha=0.3, s=2)\n",
        "\n",
        "ax.set_xlim(-8, 6)\n",
        "ax.set_ylim(-4, 2)\n",
        "ax.set_xlabel('LIN28A CLIP enrichment ($log_2$)')\n",
        "ax.set_ylabel('Ribosome density change \\nupon $Lin28a$ knockdown ($log_2$)')\n",
        "fig.show()\n"
      ]
    },
    {
      "cell_type": "markdown",
      "metadata": {
        "id": "sf6EJJ60Qbxg"
      },
      "source": [
        "## Protein localization 반영하기\n",
        "\n",
        "논문 그림에서는 protein localization을 반영해서 색으로 나타냈습니다. 이것을 한 번 구현해 봅시다. 각 gene product의 localization을 따로 구하려면 좀 귀찮기 때문에 미리 모아 두었습니다. UniProt에서 매핑된 데이터를 토대로 아주 명확한 것만 일부 정리한 것입니다. 이것도 마찬가지로 처음엔 에러가 나기도 하니까, 다시 실행해보면 거의 잘 됩니다~"
      ]
    },
    {
      "cell_type": "code",
      "execution_count": 15,
      "metadata": {
        "id": "ivb1q7_f-gl4"
      },
      "outputs": [
        {
          "data": {
            "text/html": [
              "<div>\n",
              "<style scoped>\n",
              "    .dataframe tbody tr th:only-of-type {\n",
              "        vertical-align: middle;\n",
              "    }\n",
              "\n",
              "    .dataframe tbody tr th {\n",
              "        vertical-align: top;\n",
              "    }\n",
              "\n",
              "    .dataframe thead th {\n",
              "        text-align: right;\n",
              "    }\n",
              "</style>\n",
              "<table border=\"1\" class=\"dataframe\">\n",
              "  <thead>\n",
              "    <tr style=\"text-align: right;\">\n",
              "      <th></th>\n",
              "      <th>gene_id</th>\n",
              "      <th>Gene names</th>\n",
              "      <th>type</th>\n",
              "    </tr>\n",
              "  </thead>\n",
              "  <tbody>\n",
              "    <tr>\n",
              "      <th>0</th>\n",
              "      <td>ENSMUSG00000000001</td>\n",
              "      <td>Gnai3</td>\n",
              "      <td>cytoplasm</td>\n",
              "    </tr>\n",
              "    <tr>\n",
              "      <th>1</th>\n",
              "      <td>ENSMUSG00000000028</td>\n",
              "      <td>Cdc45 Cdc45l Cdc45l2</td>\n",
              "      <td>nucleus</td>\n",
              "    </tr>\n",
              "    <tr>\n",
              "      <th>2</th>\n",
              "      <td>ENSMUSG00000000049</td>\n",
              "      <td>Apoh B2gp1</td>\n",
              "      <td>cytoplasm</td>\n",
              "    </tr>\n",
              "    <tr>\n",
              "      <th>3</th>\n",
              "      <td>ENSMUSG00000000058</td>\n",
              "      <td>Cav2</td>\n",
              "      <td>cytoplasm</td>\n",
              "    </tr>\n",
              "    <tr>\n",
              "      <th>4</th>\n",
              "      <td>ENSMUSG00000000085</td>\n",
              "      <td>Scmh1</td>\n",
              "      <td>nucleus</td>\n",
              "    </tr>\n",
              "  </tbody>\n",
              "</table>\n",
              "</div>"
            ],
            "text/plain": [
              "              gene_id            Gene names       type\n",
              "0  ENSMUSG00000000001                 Gnai3  cytoplasm\n",
              "1  ENSMUSG00000000028  Cdc45 Cdc45l Cdc45l2    nucleus\n",
              "2  ENSMUSG00000000049            Apoh B2gp1  cytoplasm\n",
              "3  ENSMUSG00000000058                  Cav2  cytoplasm\n",
              "4  ENSMUSG00000000085                 Scmh1    nucleus"
            ]
          },
          "execution_count": 15,
          "metadata": {},
          "output_type": "execute_result"
        }
      ],
      "source": [
        "import ssl\n",
        "ssl._create_default_https_context = ssl._create_unverified_context\n",
        "mouselocal = pd.read_csv('https://hyeshik.qbio.io/binfo/mouselocalization-20210507.txt', sep='\\t')\n",
        "mouselocal.head()"
      ]
    },
    {
      "cell_type": "markdown",
      "metadata": {
        "id": "Q9vgSzeiQxDU"
      },
      "source": [
        "이제 이 localization 데이터와 위에서 만든 scatter를 결합해서 논문 그림과 비슷하게 만들어 봅시다."
      ]
    },
    {
      "cell_type": "code",
      "execution_count": 28,
      "metadata": {
        "id": "aPPW73t4X3pp"
      },
      "outputs": [
        {
          "name": "stderr",
          "output_type": "stream",
          "text": [
            "/blaze/shjo/conda/envs/jupyterlab/lib/python3.7/site-packages/ipykernel_launcher.py:2: SettingWithCopyWarning: \n",
            "A value is trying to be set on a copy of a slice from a DataFrame.\n",
            "Try using .loc[row_indexer,col_indexer] = value instead\n",
            "\n",
            "See the caveats in the documentation: https://pandas.pydata.org/pandas-docs/stable/user_guide/indexing.html#returning-a-view-versus-a-copy\n",
            "  \n",
            "/blaze/shjo/conda/envs/jupyterlab/lib/python3.7/site-packages/pandas/core/frame.py:5047: SettingWithCopyWarning: \n",
            "A value is trying to be set on a copy of a slice from a DataFrame\n",
            "\n",
            "See the caveats in the documentation: https://pandas.pydata.org/pandas-docs/stable/user_guide/indexing.html#returning-a-view-versus-a-copy\n",
            "  errors=errors,\n"
          ]
        },
        {
          "data": {
            "text/html": [
              "<div>\n",
              "<style scoped>\n",
              "    .dataframe tbody tr th:only-of-type {\n",
              "        vertical-align: middle;\n",
              "    }\n",
              "\n",
              "    .dataframe tbody tr th {\n",
              "        vertical-align: top;\n",
              "    }\n",
              "\n",
              "    .dataframe thead th {\n",
              "        text-align: right;\n",
              "    }\n",
              "</style>\n",
              "<table border=\"1\" class=\"dataframe\">\n",
              "  <thead>\n",
              "    <tr style=\"text-align: right;\">\n",
              "      <th></th>\n",
              "      <th>gene_id</th>\n",
              "      <th>Chr</th>\n",
              "      <th>Start</th>\n",
              "      <th>End</th>\n",
              "      <th>Strand</th>\n",
              "      <th>Length</th>\n",
              "      <th>CLIP-35L33G.bam</th>\n",
              "      <th>RNA-control.bam</th>\n",
              "      <th>RNA-siLin28a.bam</th>\n",
              "      <th>RNA-siLuc.bam</th>\n",
              "      <th>RPF-siLin28a.bam</th>\n",
              "      <th>RPF-siLuc.bam</th>\n",
              "      <th>clip_enrichment</th>\n",
              "      <th>rden_change</th>\n",
              "    </tr>\n",
              "  </thead>\n",
              "  <tbody>\n",
              "    <tr>\n",
              "      <th>0</th>\n",
              "      <td>ENSMUSG00000103265</td>\n",
              "      <td>chr1</td>\n",
              "      <td>4805269</td>\n",
              "      <td>4805899</td>\n",
              "      <td>-</td>\n",
              "      <td>631</td>\n",
              "      <td>5</td>\n",
              "      <td>107</td>\n",
              "      <td>3</td>\n",
              "      <td>0</td>\n",
              "      <td>1</td>\n",
              "      <td>0</td>\n",
              "      <td>0.046729</td>\n",
              "      <td>NaN</td>\n",
              "    </tr>\n",
              "    <tr>\n",
              "      <th>1</th>\n",
              "      <td>ENSMUSG00000033845</td>\n",
              "      <td>chr1;chr1;chr1;chr1;chr1;chr1;chr1;chr1;chr1;c...</td>\n",
              "      <td>4843429;4843434;4844659;4846600;4847748;484774...</td>\n",
              "      <td>4844739;4847024;4844739;4847024;4847871;484787...</td>\n",
              "      <td>-;-;-;-;-;-;-;-;-;-;-;-;-;-;-;-;-;-;-;-;-;-;-;...</td>\n",
              "      <td>8487</td>\n",
              "      <td>4014</td>\n",
              "      <td>1355</td>\n",
              "      <td>3022</td>\n",
              "      <td>2563</td>\n",
              "      <td>1859</td>\n",
              "      <td>3191</td>\n",
              "      <td>2.962362</td>\n",
              "      <td>0.494091</td>\n",
              "    </tr>\n",
              "    <tr>\n",
              "      <th>2</th>\n",
              "      <td>ENSMUSG00000025903</td>\n",
              "      <td>chr1;chr1;chr1;chr1;chr1;chr1;chr1;chr1;chr1;c...</td>\n",
              "      <td>4878011;4878046;4878053;4878119;4878121;487813...</td>\n",
              "      <td>4878205;4878205;4878205;4878205;4878205;487820...</td>\n",
              "      <td>+;+;+;+;+;+;+;+;+;+;+;+;+;+;+;+;+;+;+;+;+;+;+;...</td>\n",
              "      <td>7145</td>\n",
              "      <td>2045</td>\n",
              "      <td>574</td>\n",
              "      <td>1219</td>\n",
              "      <td>1236</td>\n",
              "      <td>33</td>\n",
              "      <td>44</td>\n",
              "      <td>3.562718</td>\n",
              "      <td>0.760459</td>\n",
              "    </tr>\n",
              "    <tr>\n",
              "      <th>3</th>\n",
              "      <td>ENSMUSG00000033813</td>\n",
              "      <td>chr1;chr1;chr1;chr1;chr1;chr1;chr1;chr1;chr1;c...</td>\n",
              "      <td>4928037;4928261;4937693;4937693;4948250;494825...</td>\n",
              "      <td>4928199;4928726;4937755;4937755;4948355;494835...</td>\n",
              "      <td>+;+;+;+;+;+;+;+;+;+;+;+;+;+;+;+;+;+;+;+</td>\n",
              "      <td>3017</td>\n",
              "      <td>1658</td>\n",
              "      <td>762</td>\n",
              "      <td>2130</td>\n",
              "      <td>2225</td>\n",
              "      <td>328</td>\n",
              "      <td>609</td>\n",
              "      <td>2.175853</td>\n",
              "      <td>0.562609</td>\n",
              "    </tr>\n",
              "    <tr>\n",
              "      <th>4</th>\n",
              "      <td>ENSMUSG00000033793</td>\n",
              "      <td>chr1;chr1;chr1;chr1;chr1;chr1;chr1;chr1;chr1;c...</td>\n",
              "      <td>5140241;5153303;5153333;5153347;5153355;515335...</td>\n",
              "      <td>5140367;5153501;5153848;5153501;5153501;515350...</td>\n",
              "      <td>+;+;+;+;+;+;+;+;+;+;+;+;+;+;+;+;+;+;+;+;+;+;+;...</td>\n",
              "      <td>9746</td>\n",
              "      <td>1111</td>\n",
              "      <td>474</td>\n",
              "      <td>1260</td>\n",
              "      <td>1031</td>\n",
              "      <td>603</td>\n",
              "      <td>1128</td>\n",
              "      <td>2.343882</td>\n",
              "      <td>0.437418</td>\n",
              "    </tr>\n",
              "  </tbody>\n",
              "</table>\n",
              "</div>"
            ],
            "text/plain": [
              "              gene_id                                                Chr  \\\n",
              "0  ENSMUSG00000103265                                               chr1   \n",
              "1  ENSMUSG00000033845  chr1;chr1;chr1;chr1;chr1;chr1;chr1;chr1;chr1;c...   \n",
              "2  ENSMUSG00000025903  chr1;chr1;chr1;chr1;chr1;chr1;chr1;chr1;chr1;c...   \n",
              "3  ENSMUSG00000033813  chr1;chr1;chr1;chr1;chr1;chr1;chr1;chr1;chr1;c...   \n",
              "4  ENSMUSG00000033793  chr1;chr1;chr1;chr1;chr1;chr1;chr1;chr1;chr1;c...   \n",
              "\n",
              "                                               Start  \\\n",
              "0                                            4805269   \n",
              "1  4843429;4843434;4844659;4846600;4847748;484774...   \n",
              "2  4878011;4878046;4878053;4878119;4878121;487813...   \n",
              "3  4928037;4928261;4937693;4937693;4948250;494825...   \n",
              "4  5140241;5153303;5153333;5153347;5153355;515335...   \n",
              "\n",
              "                                                 End  \\\n",
              "0                                            4805899   \n",
              "1  4844739;4847024;4844739;4847024;4847871;484787...   \n",
              "2  4878205;4878205;4878205;4878205;4878205;487820...   \n",
              "3  4928199;4928726;4937755;4937755;4948355;494835...   \n",
              "4  5140367;5153501;5153848;5153501;5153501;515350...   \n",
              "\n",
              "                                              Strand  Length  CLIP-35L33G.bam  \\\n",
              "0                                                  -     631                5   \n",
              "1  -;-;-;-;-;-;-;-;-;-;-;-;-;-;-;-;-;-;-;-;-;-;-;...    8487             4014   \n",
              "2  +;+;+;+;+;+;+;+;+;+;+;+;+;+;+;+;+;+;+;+;+;+;+;...    7145             2045   \n",
              "3            +;+;+;+;+;+;+;+;+;+;+;+;+;+;+;+;+;+;+;+    3017             1658   \n",
              "4  +;+;+;+;+;+;+;+;+;+;+;+;+;+;+;+;+;+;+;+;+;+;+;...    9746             1111   \n",
              "\n",
              "   RNA-control.bam  RNA-siLin28a.bam  RNA-siLuc.bam  RPF-siLin28a.bam  \\\n",
              "0              107                 3              0                 1   \n",
              "1             1355              3022           2563              1859   \n",
              "2              574              1219           1236                33   \n",
              "3              762              2130           2225               328   \n",
              "4              474              1260           1031               603   \n",
              "\n",
              "   RPF-siLuc.bam  clip_enrichment  rden_change  \n",
              "0              0         0.046729          NaN  \n",
              "1           3191         2.962362     0.494091  \n",
              "2             44         3.562718     0.760459  \n",
              "3            609         2.175853     0.562609  \n",
              "4           1128         2.343882     0.437418  "
            ]
          },
          "execution_count": 28,
          "metadata": {},
          "output_type": "execute_result"
        }
      ],
      "source": [
        "cnts_filtered.reset_index(inplace=True)\n",
        "cnts_filtered['Geneid'] = cnts_filtered['Geneid'].str.split('.',expand=True)[0]\n",
        "cnts_filtered.rename(columns={'Geneid':'gene_id'}, inplace=True)\n",
        "cnts_filtered.head()"
      ]
    },
    {
      "cell_type": "code",
      "execution_count": 31,
      "metadata": {},
      "outputs": [],
      "source": [
        "def map_type_to_color(x):\n",
        "    if x == 'cytoplasm':\n",
        "        return 'green'\n",
        "    elif x == 'nucleus':\n",
        "        return 'blue'\n",
        "    elif x == 'integral membrane':\n",
        "        return 'red'\n",
        "    else:\n",
        "        return 'unknown'\n",
        "\n",
        "merged = pd.merge(cnts_filtered, mouselocal, on='gene_id', how='inner')    \n",
        "merged['color'] = merged['type'].apply(map_type_to_color)\n",
        "merged.head()"
      ]
    },
    {
      "cell_type": "code",
      "execution_count": 34,
      "metadata": {},
      "outputs": [
        {
          "data": {
            "text/html": [
              "<div>\n",
              "<style scoped>\n",
              "    .dataframe tbody tr th:only-of-type {\n",
              "        vertical-align: middle;\n",
              "    }\n",
              "\n",
              "    .dataframe tbody tr th {\n",
              "        vertical-align: top;\n",
              "    }\n",
              "\n",
              "    .dataframe thead th {\n",
              "        text-align: right;\n",
              "    }\n",
              "</style>\n",
              "<table border=\"1\" class=\"dataframe\">\n",
              "  <thead>\n",
              "    <tr style=\"text-align: right;\">\n",
              "      <th></th>\n",
              "      <th>gene_id</th>\n",
              "      <th>Chr</th>\n",
              "      <th>Start</th>\n",
              "      <th>End</th>\n",
              "      <th>Strand</th>\n",
              "      <th>Length</th>\n",
              "      <th>CLIP-35L33G.bam</th>\n",
              "      <th>RNA-control.bam</th>\n",
              "      <th>RNA-siLin28a.bam</th>\n",
              "      <th>RNA-siLuc.bam</th>\n",
              "      <th>RPF-siLin28a.bam</th>\n",
              "      <th>RPF-siLuc.bam</th>\n",
              "      <th>clip_enrichment</th>\n",
              "      <th>rden_change</th>\n",
              "      <th>Gene names</th>\n",
              "      <th>type</th>\n",
              "      <th>color</th>\n",
              "    </tr>\n",
              "  </thead>\n",
              "  <tbody>\n",
              "    <tr>\n",
              "      <th>1928</th>\n",
              "      <td>ENSMUSG00000053693</td>\n",
              "      <td>chr8;chr8;chr8;chr8;chr8;chr8;chr8;chr8;chr8;c...</td>\n",
              "      <td>85638532;85638535;85638537;85639949;85639949;8...</td>\n",
              "      <td>85639870;85639870;85638636;85640136;85640136;8...</td>\n",
              "      <td>-;-;-;-;-;-;-;-;-;-;-;-;-;-;-;-;-;-;-;-;-;-;-;...</td>\n",
              "      <td>6459</td>\n",
              "      <td>39</td>\n",
              "      <td>262</td>\n",
              "      <td>89</td>\n",
              "      <td>37</td>\n",
              "      <td>1</td>\n",
              "      <td>4</td>\n",
              "      <td>0.148855</td>\n",
              "      <td>0.103933</td>\n",
              "      <td>Mast1 Kiaa0973 Sast</td>\n",
              "      <td>cytoplasm</td>\n",
              "      <td>green</td>\n",
              "    </tr>\n",
              "    <tr>\n",
              "      <th>3361</th>\n",
              "      <td>ENSMUSG00000022565</td>\n",
              "      <td>chr15;chr15;chr15;chr15;chr15;chr15;chr15;chr1...</td>\n",
              "      <td>76055174;76055174;76055174;76055174;76055174;7...</td>\n",
              "      <td>76062585;76062585;76062585;76062585;76062585;7...</td>\n",
              "      <td>-;-;-;-;-;-;-;-;-;-;-;-;-;-;-;-;-;-;-;-;-;-;-;...</td>\n",
              "      <td>18113</td>\n",
              "      <td>5350</td>\n",
              "      <td>1058</td>\n",
              "      <td>2516</td>\n",
              "      <td>1838</td>\n",
              "      <td>458</td>\n",
              "      <td>505</td>\n",
              "      <td>5.056711</td>\n",
              "      <td>0.662535</td>\n",
              "      <td>Plec Plec1</td>\n",
              "      <td>cytoplasm</td>\n",
              "      <td>green</td>\n",
              "    </tr>\n",
              "    <tr>\n",
              "      <th>1231</th>\n",
              "      <td>ENSMUSG00000029521</td>\n",
              "      <td>chr5;chr5;chr5;chr5;chr5;chr5;chr5;chr5;chr5;c...</td>\n",
              "      <td>110987845;110987849;110987866;110988095;110988...</td>\n",
              "      <td>110987914;110987914;110987914;110988406;110988...</td>\n",
              "      <td>+;+;+;+;+;+;+;+;+;+;+;+;+;+;+;+;+;+;+;+;+;+;+;...</td>\n",
              "      <td>3001</td>\n",
              "      <td>385</td>\n",
              "      <td>449</td>\n",
              "      <td>983</td>\n",
              "      <td>976</td>\n",
              "      <td>297</td>\n",
              "      <td>644</td>\n",
              "      <td>0.857461</td>\n",
              "      <td>0.457896</td>\n",
              "      <td>Chek2 Chk2 Rad53</td>\n",
              "      <td>nucleus</td>\n",
              "      <td>blue</td>\n",
              "    </tr>\n",
              "    <tr>\n",
              "      <th>2504</th>\n",
              "      <td>ENSMUSG00000020134</td>\n",
              "      <td>chr11;chr11;chr11;chr11;chr11;chr11;chr11;chr1...</td>\n",
              "      <td>21041291;21041291;21042118;21085469;21086046;2...</td>\n",
              "      <td>21041678;21041678;21042369;21086185;21086185;2...</td>\n",
              "      <td>+;+;+;+;+;+;+;+;+;+;+;+;+;+;+;+;+;+;+;+;+;+;+;+</td>\n",
              "      <td>6553</td>\n",
              "      <td>555</td>\n",
              "      <td>186</td>\n",
              "      <td>558</td>\n",
              "      <td>544</td>\n",
              "      <td>119</td>\n",
              "      <td>178</td>\n",
              "      <td>2.983871</td>\n",
              "      <td>0.651766</td>\n",
              "      <td>Peli1</td>\n",
              "      <td>nucleus</td>\n",
              "      <td>blue</td>\n",
              "    </tr>\n",
              "    <tr>\n",
              "      <th>2623</th>\n",
              "      <td>ENSMUSG00000005204</td>\n",
              "      <td>chr11;chr11;chr11;chr11;chr11;chr11;chr11;chr1...</td>\n",
              "      <td>69563941;69563942;69563947;69564101;69564167;6...</td>\n",
              "      <td>69564462;69564462;69564462;69564462;69564462;6...</td>\n",
              "      <td>-;-;-;-;-;-;-;-;-;-;-;-;-;-;-;-;-;-;-;-;-;-;-;...</td>\n",
              "      <td>3632</td>\n",
              "      <td>2211</td>\n",
              "      <td>2070</td>\n",
              "      <td>4420</td>\n",
              "      <td>2784</td>\n",
              "      <td>652</td>\n",
              "      <td>968</td>\n",
              "      <td>1.068116</td>\n",
              "      <td>0.424247</td>\n",
              "      <td>Senp3 Smt3ip Smt3ip1</td>\n",
              "      <td>nucleus</td>\n",
              "      <td>blue</td>\n",
              "    </tr>\n",
              "    <tr>\n",
              "      <th>...</th>\n",
              "      <td>...</td>\n",
              "      <td>...</td>\n",
              "      <td>...</td>\n",
              "      <td>...</td>\n",
              "      <td>...</td>\n",
              "      <td>...</td>\n",
              "      <td>...</td>\n",
              "      <td>...</td>\n",
              "      <td>...</td>\n",
              "      <td>...</td>\n",
              "      <td>...</td>\n",
              "      <td>...</td>\n",
              "      <td>...</td>\n",
              "      <td>...</td>\n",
              "      <td>...</td>\n",
              "      <td>...</td>\n",
              "      <td>...</td>\n",
              "    </tr>\n",
              "    <tr>\n",
              "      <th>3363</th>\n",
              "      <td>ENSMUSG00000022561</td>\n",
              "      <td>chr15;chr15;chr15;chr15;chr15;chr15;chr15;chr1...</td>\n",
              "      <td>76215431;76215544;76215545;76215550;76215713;7...</td>\n",
              "      <td>76215663;76215663;76215663;76215663;76216275;7...</td>\n",
              "      <td>+;+;+;+;+;+;+;+;+;+;+;+;+;+;+;+;+;+;+;+;+;+;+;...</td>\n",
              "      <td>2947</td>\n",
              "      <td>256</td>\n",
              "      <td>248</td>\n",
              "      <td>606</td>\n",
              "      <td>411</td>\n",
              "      <td>754</td>\n",
              "      <td>544</td>\n",
              "      <td>1.032258</td>\n",
              "      <td>0.940030</td>\n",
              "      <td>Gpaa1 Gaa1</td>\n",
              "      <td>integral membrane</td>\n",
              "      <td>red</td>\n",
              "    </tr>\n",
              "    <tr>\n",
              "      <th>2883</th>\n",
              "      <td>ENSMUSG00000020661</td>\n",
              "      <td>chr12;chr12;chr12;chr12;chr12;chr12;chr12;chr1...</td>\n",
              "      <td>3856007;3856498;3856527;3857030;3857058;385716...</td>\n",
              "      <td>3856232;3856602;3856602;3857120;3857120;385725...</td>\n",
              "      <td>+;+;+;+;+;+;+;+;+;+;+;+;+;+;+;+;+;+;+;+;+;+;+;...</td>\n",
              "      <td>16642</td>\n",
              "      <td>2032</td>\n",
              "      <td>758</td>\n",
              "      <td>1602</td>\n",
              "      <td>1280</td>\n",
              "      <td>258</td>\n",
              "      <td>705</td>\n",
              "      <td>2.680739</td>\n",
              "      <td>0.292400</td>\n",
              "      <td>Dnmt3a</td>\n",
              "      <td>nucleus</td>\n",
              "      <td>blue</td>\n",
              "    </tr>\n",
              "    <tr>\n",
              "      <th>2166</th>\n",
              "      <td>ENSMUSG00000042688</td>\n",
              "      <td>chr9;chr9;chr9;chr9;chr9;chr9;chr9;chr9;chr9;c...</td>\n",
              "      <td>75276344;75294028;75294184;75294186;75296196;7...</td>\n",
              "      <td>75276431;75294098;75296429;75296429;75296301;7...</td>\n",
              "      <td>-;-;-;-;-;-;-;-;-;-;-;-;-;-;-;-;-;-;-;-;-;-;-;-;-</td>\n",
              "      <td>6675</td>\n",
              "      <td>1176</td>\n",
              "      <td>974</td>\n",
              "      <td>2453</td>\n",
              "      <td>1878</td>\n",
              "      <td>502</td>\n",
              "      <td>804</td>\n",
              "      <td>1.207392</td>\n",
              "      <td>0.478020</td>\n",
              "      <td>Mapk6 Erk3 Prkm4 Prkm6</td>\n",
              "      <td>nucleus</td>\n",
              "      <td>blue</td>\n",
              "    </tr>\n",
              "    <tr>\n",
              "      <th>2926</th>\n",
              "      <td>ENSMUSG00000060121</td>\n",
              "      <td>chr12;chr12;chr12;chr12;chr12;chr12;chr12;chr1...</td>\n",
              "      <td>59060179;59060240;59060756;59062861;59063652;5...</td>\n",
              "      <td>59060399;59060840;59060840;59062994;59063741;5...</td>\n",
              "      <td>+;+;+;+;+;+;+;+;+;+;+;+;+;+;+;+;+;+;+;+;+;+;+</td>\n",
              "      <td>2415</td>\n",
              "      <td>652</td>\n",
              "      <td>177</td>\n",
              "      <td>271</td>\n",
              "      <td>341</td>\n",
              "      <td>150</td>\n",
              "      <td>317</td>\n",
              "      <td>3.683616</td>\n",
              "      <td>0.595411</td>\n",
              "      <td>Gemin2 Sip1</td>\n",
              "      <td>nucleus</td>\n",
              "      <td>blue</td>\n",
              "    </tr>\n",
              "    <tr>\n",
              "      <th>632</th>\n",
              "      <td>ENSMUSG00000044167</td>\n",
              "      <td>chr3;chr3;chr3</td>\n",
              "      <td>52175757;52252460;52254417</td>\n",
              "      <td>52176843;52253811;52260642</td>\n",
              "      <td>+;+;+</td>\n",
              "      <td>8665</td>\n",
              "      <td>636</td>\n",
              "      <td>218</td>\n",
              "      <td>510</td>\n",
              "      <td>419</td>\n",
              "      <td>180</td>\n",
              "      <td>350</td>\n",
              "      <td>2.917431</td>\n",
              "      <td>0.422521</td>\n",
              "      <td>Foxo1 Fkhr Foxo1a</td>\n",
              "      <td>nucleus</td>\n",
              "      <td>blue</td>\n",
              "    </tr>\n",
              "  </tbody>\n",
              "</table>\n",
              "<p>423 rows × 17 columns</p>\n",
              "</div>"
            ],
            "text/plain": [
              "                 gene_id                                                Chr  \\\n",
              "1928  ENSMUSG00000053693  chr8;chr8;chr8;chr8;chr8;chr8;chr8;chr8;chr8;c...   \n",
              "3361  ENSMUSG00000022565  chr15;chr15;chr15;chr15;chr15;chr15;chr15;chr1...   \n",
              "1231  ENSMUSG00000029521  chr5;chr5;chr5;chr5;chr5;chr5;chr5;chr5;chr5;c...   \n",
              "2504  ENSMUSG00000020134  chr11;chr11;chr11;chr11;chr11;chr11;chr11;chr1...   \n",
              "2623  ENSMUSG00000005204  chr11;chr11;chr11;chr11;chr11;chr11;chr11;chr1...   \n",
              "...                  ...                                                ...   \n",
              "3363  ENSMUSG00000022561  chr15;chr15;chr15;chr15;chr15;chr15;chr15;chr1...   \n",
              "2883  ENSMUSG00000020661  chr12;chr12;chr12;chr12;chr12;chr12;chr12;chr1...   \n",
              "2166  ENSMUSG00000042688  chr9;chr9;chr9;chr9;chr9;chr9;chr9;chr9;chr9;c...   \n",
              "2926  ENSMUSG00000060121  chr12;chr12;chr12;chr12;chr12;chr12;chr12;chr1...   \n",
              "632   ENSMUSG00000044167                                     chr3;chr3;chr3   \n",
              "\n",
              "                                                  Start  \\\n",
              "1928  85638532;85638535;85638537;85639949;85639949;8...   \n",
              "3361  76055174;76055174;76055174;76055174;76055174;7...   \n",
              "1231  110987845;110987849;110987866;110988095;110988...   \n",
              "2504  21041291;21041291;21042118;21085469;21086046;2...   \n",
              "2623  69563941;69563942;69563947;69564101;69564167;6...   \n",
              "...                                                 ...   \n",
              "3363  76215431;76215544;76215545;76215550;76215713;7...   \n",
              "2883  3856007;3856498;3856527;3857030;3857058;385716...   \n",
              "2166  75276344;75294028;75294184;75294186;75296196;7...   \n",
              "2926  59060179;59060240;59060756;59062861;59063652;5...   \n",
              "632                          52175757;52252460;52254417   \n",
              "\n",
              "                                                    End  \\\n",
              "1928  85639870;85639870;85638636;85640136;85640136;8...   \n",
              "3361  76062585;76062585;76062585;76062585;76062585;7...   \n",
              "1231  110987914;110987914;110987914;110988406;110988...   \n",
              "2504  21041678;21041678;21042369;21086185;21086185;2...   \n",
              "2623  69564462;69564462;69564462;69564462;69564462;6...   \n",
              "...                                                 ...   \n",
              "3363  76215663;76215663;76215663;76215663;76216275;7...   \n",
              "2883  3856232;3856602;3856602;3857120;3857120;385725...   \n",
              "2166  75276431;75294098;75296429;75296429;75296301;7...   \n",
              "2926  59060399;59060840;59060840;59062994;59063741;5...   \n",
              "632                          52176843;52253811;52260642   \n",
              "\n",
              "                                                 Strand  Length  \\\n",
              "1928  -;-;-;-;-;-;-;-;-;-;-;-;-;-;-;-;-;-;-;-;-;-;-;...    6459   \n",
              "3361  -;-;-;-;-;-;-;-;-;-;-;-;-;-;-;-;-;-;-;-;-;-;-;...   18113   \n",
              "1231  +;+;+;+;+;+;+;+;+;+;+;+;+;+;+;+;+;+;+;+;+;+;+;...    3001   \n",
              "2504    +;+;+;+;+;+;+;+;+;+;+;+;+;+;+;+;+;+;+;+;+;+;+;+    6553   \n",
              "2623  -;-;-;-;-;-;-;-;-;-;-;-;-;-;-;-;-;-;-;-;-;-;-;...    3632   \n",
              "...                                                 ...     ...   \n",
              "3363  +;+;+;+;+;+;+;+;+;+;+;+;+;+;+;+;+;+;+;+;+;+;+;...    2947   \n",
              "2883  +;+;+;+;+;+;+;+;+;+;+;+;+;+;+;+;+;+;+;+;+;+;+;...   16642   \n",
              "2166  -;-;-;-;-;-;-;-;-;-;-;-;-;-;-;-;-;-;-;-;-;-;-;-;-    6675   \n",
              "2926      +;+;+;+;+;+;+;+;+;+;+;+;+;+;+;+;+;+;+;+;+;+;+    2415   \n",
              "632                                               +;+;+    8665   \n",
              "\n",
              "      CLIP-35L33G.bam  RNA-control.bam  RNA-siLin28a.bam  RNA-siLuc.bam  \\\n",
              "1928               39              262                89             37   \n",
              "3361             5350             1058              2516           1838   \n",
              "1231              385              449               983            976   \n",
              "2504              555              186               558            544   \n",
              "2623             2211             2070              4420           2784   \n",
              "...               ...              ...               ...            ...   \n",
              "3363              256              248               606            411   \n",
              "2883             2032              758              1602           1280   \n",
              "2166             1176              974              2453           1878   \n",
              "2926              652              177               271            341   \n",
              "632               636              218               510            419   \n",
              "\n",
              "      RPF-siLin28a.bam  RPF-siLuc.bam  clip_enrichment  rden_change  \\\n",
              "1928                 1              4         0.148855     0.103933   \n",
              "3361               458            505         5.056711     0.662535   \n",
              "1231               297            644         0.857461     0.457896   \n",
              "2504               119            178         2.983871     0.651766   \n",
              "2623               652            968         1.068116     0.424247   \n",
              "...                ...            ...              ...          ...   \n",
              "3363               754            544         1.032258     0.940030   \n",
              "2883               258            705         2.680739     0.292400   \n",
              "2166               502            804         1.207392     0.478020   \n",
              "2926               150            317         3.683616     0.595411   \n",
              "632                180            350         2.917431     0.422521   \n",
              "\n",
              "                  Gene names               type  color  \n",
              "1928     Mast1 Kiaa0973 Sast          cytoplasm  green  \n",
              "3361              Plec Plec1          cytoplasm  green  \n",
              "1231        Chek2 Chk2 Rad53            nucleus   blue  \n",
              "2504                   Peli1            nucleus   blue  \n",
              "2623    Senp3 Smt3ip Smt3ip1            nucleus   blue  \n",
              "...                      ...                ...    ...  \n",
              "3363              Gpaa1 Gaa1  integral membrane    red  \n",
              "2883                  Dnmt3a            nucleus   blue  \n",
              "2166  Mapk6 Erk3 Prkm4 Prkm6            nucleus   blue  \n",
              "2926             Gemin2 Sip1            nucleus   blue  \n",
              "632        Foxo1 Fkhr Foxo1a            nucleus   blue  \n",
              "\n",
              "[423 rows x 17 columns]"
            ]
          },
          "execution_count": 34,
          "metadata": {},
          "output_type": "execute_result"
        }
      ],
      "source": [
        "sampled = merged.sample(frac=0.1, random_state=1)\n",
        "sampled"
      ]
    },
    {
      "cell_type": "code",
      "execution_count": 43,
      "metadata": {},
      "outputs": [
        {
          "data": {
            "image/png": "[encoded data removed]",
            "text/plain": [
              "<Figure size 360x360 with 1 Axes>"
            ]
          },
          "metadata": {
            "needs_background": "light"
          },
          "output_type": "display_data"
        }
      ],
      "source": [
        "fig, ax = plt.subplots(1, 1, figsize=(5, 5))\n",
        "ax.grid(True, ls='--', alpha=0.5, color='#000000', zorder=1)\n",
        "ax.scatter(np.log2(sampled['clip_enrichment']),\n",
        "           np.log2(sampled['rden_change']),\n",
        "           c=sampled['color'], alpha=0.5, s=10, zorder=2)\n",
        "ax.set_xlabel('LIN28A CLIP enrichment ($log_2$)')\n",
        "ax.set_ylabel('Ribosome density change \\nupon $Lin28a$ knockdown ($log_2$)')\n",
        "fig.show()"
      ]
    }
  ],
  "metadata": {
    "colab": {
      "provenance": []
    },
    "kernelspec": {
      "display_name": "Python 3",
      "name": "python3"
    },
    "language_info": {
      "codemirror_mode": {
        "name": "ipython",
        "version": 3
      },
      "file_extension": ".py",
      "mimetype": "text/x-python",
      "name": "python",
      "nbconvert_exporter": "python",
      "pygments_lexer": "ipython3",
      "version": "3.7.12"
    }
  },
  "nbformat": 4,
  "nbformat_minor": 0
}
